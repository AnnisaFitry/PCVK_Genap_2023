{
  "nbformat": 4,
  "nbformat_minor": 0,
  "metadata": {
    "colab": {
      "provenance": [],
      "authorship_tag": "ABX9TyMbgLguvKi7zRsjCoevVfjs",
      "include_colab_link": true
    },
    "kernelspec": {
      "name": "python3",
      "display_name": "Python 3"
    },
    "language_info": {
      "name": "python"
    }
  },
  "cells": [
    {
      "cell_type": "markdown",
      "metadata": {
        "id": "view-in-github",
        "colab_type": "text"
      },
      "source": [
        "<a href=\"https://colab.research.google.com/github/AnnisaFitry/PCVK_Genap_2023/blob/main/week6.ipynb\" target=\"_parent\"><img src=\"https://colab.research.google.com/assets/colab-badge.svg\" alt=\"Open In Colab\"/></a>"
      ]
    },
    {
      "cell_type": "markdown",
      "source": [
        "# WEEK 6\n",
        "\n",
        "    Nama : Annisa Fitri Yuliandra\n",
        "    Kelas : 3B\n",
        "    Jurusan : Teknologi Informasi\n",
        "    Prodi : D4 Teknik Informatika\n",
        "\n",
        "**Tujuan**\n",
        "\n",
        "- Mahasiswa mampu memahami mengenai histogram citra dan menerapkannya dalam program Python\n",
        "- Mahasiswa mampu memahami mengenai histogram equalization dan menerapkannya dalam program Python\n",
        "- Mahasiswa mampu memahami mengenai dithering citra dan menerapkannya dalam program Python"
      ],
      "metadata": {
        "id": "adnZEURztn5F"
      }
    },
    {
      "cell_type": "markdown",
      "source": [
        "# PRAKTIKUM"
      ],
      "metadata": {
        "id": "9iMeGLdBt0ML"
      }
    },
    {
      "cell_type": "code",
      "execution_count": null,
      "metadata": {
        "id": "O0tizBnis6j7"
      },
      "outputs": [],
      "source": [
        "from google.colab import drive\n",
        "drive.mount('/content/drive')"
      ]
    },
    {
      "cell_type": "code",
      "source": [
        "import numpy as np\n",
        "import cv2 as cv\n",
        "from google.colab.patches import cv2_imshow # Menampilkan image\n",
        "from skimage import io\n",
        "import matplotlib.pylab as plt\n",
        "import math\n",
        "import os\n",
        "import glob"
      ],
      "metadata": {
        "id": "UH35jLxKtrq_"
      },
      "execution_count": null,
      "outputs": []
    },
    {
      "cell_type": "markdown",
      "source": [
        "# TUGAS PRAKTIKUM"
      ],
      "metadata": {
        "id": "SZAfC2CvtkbY"
      }
    },
    {
      "cell_type": "code",
      "source": [],
      "metadata": {
        "id": "b-VZvqSct8DS"
      },
      "execution_count": null,
      "outputs": []
    }
  ]
}