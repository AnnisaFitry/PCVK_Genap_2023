{
  "nbformat": 4,
  "nbformat_minor": 0,
  "metadata": {
    "colab": {
      "provenance": [],
      "authorship_tag": "ABX9TyOuitdf/5dUU2OQWD83JzH3",
      "include_colab_link": true
    },
    "kernelspec": {
      "name": "python3",
      "display_name": "Python 3"
    },
    "language_info": {
      "name": "python"
    }
  },
  "cells": [
    {
      "cell_type": "markdown",
      "metadata": {
        "id": "view-in-github",
        "colab_type": "text"
      },
      "source": [
        "<a href=\"https://colab.research.google.com/github/AnnisaFitry/PCVK_Genap_2023/blob/main/week1.ipynb\" target=\"_parent\"><img src=\"https://colab.research.google.com/assets/colab-badge.svg\" alt=\"Open In Colab\"/></a>"
      ]
    },
    {
      "cell_type": "markdown",
      "source": [
        "# WEEK 1 : Membaca dan Menampilkan Citra\n",
        "\n",
        "    Nama : Annisa Fitri Yuliandra\n",
        "    Kelas : 3B\n",
        "    Jurusan : Teknologi Informasi\n",
        "    Prodi : D4 Teknik Informatika\n",
        "\n",
        "**Tujuan**\n",
        "\n",
        "1. Mampu membuat Repository di Github.\n",
        "2. Mampu membuat Python Notebook di Google Colaborator.\n",
        "3. Mampu menyimpan dan mengakses Python Notebook dari Google Colaborator.\n",
        "4. Mampu membuka File Citra dari Code Python.\n",
        "5. Mampu mengakses pixel pada citra."
      ],
      "metadata": {
        "id": "k-E7hSjzqdX6"
      }
    },
    {
      "cell_type": "markdown",
      "source": [
        "## Langkah (Step) 1 :\n",
        "Import Library "
      ],
      "metadata": {
        "id": "D7ewMmC8rf5g"
      }
    },
    {
      "cell_type": "code",
      "execution_count": null,
      "metadata": {
        "id": "vspzt0Xgpk1U"
      },
      "outputs": [],
      "source": [
        "#"
      ]
    }
  ]
}